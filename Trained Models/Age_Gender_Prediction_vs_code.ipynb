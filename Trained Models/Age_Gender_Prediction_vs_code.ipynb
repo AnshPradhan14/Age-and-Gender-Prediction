{
 "cells": [
  {
   "cell_type": "code",
   "execution_count": null,
   "id": "ee4adaea",
   "metadata": {},
   "outputs": [],
   "source": [
    "\n",
    "import os\n",
    "import cv2\n",
    "import numpy as np\n",
    "import matplotlib.pyplot as plt\n",
    "from tensorflow.keras.models import load_model\n"
   ]
  },
  {
   "cell_type": "code",
   "execution_count": null,
   "id": "38eb309f",
   "metadata": {},
   "outputs": [],
   "source": [
    "\n",
    "#load trained model\n",
    "model = load_model('age_gender_model.h5', compile=False)\n",
    "print(\"Model loaded successfully\")\n"
   ]
  },
  {
   "cell_type": "code",
   "execution_count": null,
   "id": "36f7ee03",
   "metadata": {},
   "outputs": [],
   "source": [
    "\n",
    "def predict_age_gender(image_path, model, image_size=128):\n",
    "    img = cv2.imread(image_path)\n",
    "    img = cv2.cvtColor(img, cv2.COLOR_BGR2RGB)\n",
    "    img = cv2.resize(img, (image_size, image_size)) / 255.0\n",
    "    img_exp = np.expand_dims(img, axis=0)\n",
    "\n",
    "    age_pred, gender_pred = model.predict(img_exp)\n",
    "    age = int(age_pred[0][0])\n",
    "    gender = \"Female\" if np.argmax(gender_pred[0]) == 1 else \"Male\"\n",
    "\n",
    "    return age, gender, img\n"
   ]
  },
  {
   "cell_type": "code",
   "execution_count": null,
   "id": "2ea5a529",
   "metadata": {},
   "outputs": [],
   "source": [
    "\n",
    "#predict from local image file\n",
    "from tkinter import Tk, filedialog\n",
    "\n",
    "def upload_and_predict_local():\n",
    "    root = Tk()\n",
    "    root.withdraw()\n",
    "    file_path = filedialog.askopenfilename(\n",
    "        title=\"Select an image\",\n",
    "        filetypes=[(\"Image files\", \"*.jpg *.jpeg *.png\")]\n",
    "    )\n",
    "\n",
    "    if file_path:\n",
    "        age, gender, img = predict_age_gender(file_path, model)\n",
    "        plt.imshow(img)\n",
    "        plt.title(f\"Predicted Age: {age}, Gender: {gender}\")\n",
    "        plt.axis('off')\n",
    "        plt.show()\n",
    "\n",
    "        print(f\"Predicted Age: {age}\")\n",
    "        print(f\"Predicted Gender: {gender}\")\n",
    "    else:\n",
    "        print(\"No file selected.\")\n"
   ]
  },
  {
   "cell_type": "code",
   "execution_count": null,
   "id": "c7222849",
   "metadata": {},
   "outputs": [],
   "source": [
    "\n",
    "#predict from webcam\n",
    "def capture_and_predict_webcam():\n",
    "    cap = cv2.VideoCapture(0)\n",
    "    if not cap.isOpened():\n",
    "        print(\"Webcam access failed.\")\n",
    "        return\n",
    "\n",
    "    print(\"Press 's' to capture and predict, 'q' to quit.\")\n",
    "    while True:\n",
    "        ret, frame = cap.read()\n",
    "        if not ret:\n",
    "            print(\"Failed to capture frame.\")\n",
    "            break\n",
    "\n",
    "        cv2.imshow(\"Webcam - Press 's' to capture\", frame)\n",
    "        key = cv2.waitKey(1) & 0xFF\n",
    "\n",
    "        if key == ord('s'):\n",
    "            path = \"captured_image.jpg\"\n",
    "            cv2.imwrite(path, frame)\n",
    "            age, gender, img = predict_age_gender(path, model)\n",
    "\n",
    "            plt.imshow(img)\n",
    "            plt.title(f\"Predicted Age: {age}, Gender: {gender}\")\n",
    "            plt.axis('off')\n",
    "            plt.show()\n",
    "\n",
    "        elif key == ord('q'):\n",
    "            break\n",
    "\n",
    "    cap.release()\n",
    "    cv2.destroyAllWindows()\n"
   ]
  },
  {
   "cell_type": "code",
   "execution_count": null,
   "id": "96b6f964",
   "metadata": {},
   "outputs": [],
   "source": [
    "print(\"1. Predict from webcam\")\n",
    "print(\"2. Upload image from file\")\n",
    "\n",
    "choice = input(\"Enter 1 or 2: \")\n",
    "\n",
    "if choice == '1':\n",
    "    capture_and_predict_webcam()\n",
    "elif choice == '2':\n",
    "    upload_and_predict_local()\n",
    "else:\n",
    "    print(\"Invalid choice.\")\n"
   ]
  },
  {
   "cell_type": "code",
   "execution_count": null,
   "id": "bad032df",
   "metadata": {},
   "outputs": [],
   "source": []
  }
 ],
 "metadata": {
  "kernelspec": {
   "display_name": "Python 3",
   "language": "python",
   "name": "python3"
  },
  "language_info": {
   "codemirror_mode": {
    "name": "ipython",
    "version": 3
   },
   "file_extension": ".py",
   "mimetype": "text/x-python",
   "name": "python",
   "nbconvert_exporter": "python",
   "pygments_lexer": "ipython3",
   "version": "3.12.1"
  }
 },
 "nbformat": 4,
 "nbformat_minor": 5
}
